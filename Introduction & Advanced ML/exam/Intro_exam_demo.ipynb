{
  "nbformat": 4,
  "nbformat_minor": 0,
  "metadata": {
    "colab": {
      "provenance": [],
      "authorship_tag": "ABX9TyPiYQ4LnXJt12euBVfivyJz",
      "include_colab_link": true
    },
    "kernelspec": {
      "name": "python3",
      "display_name": "Python 3"
    },
    "language_info": {
      "name": "python"
    }
  },
  "cells": [
    {
      "cell_type": "markdown",
      "metadata": {
        "id": "view-in-github",
        "colab_type": "text"
      },
      "source": [
        "<a href=\"https://colab.research.google.com/github/orekhovsky/ITMO_Masters/blob/main/Introduction%20%26%20Advanced%20ML/exam/Intro_exam_demo.ipynb\" target=\"_parent\"><img src=\"https://colab.research.google.com/assets/colab-badge.svg\" alt=\"Open In Colab\"/></a>"
      ]
    },
    {
      "cell_type": "code",
      "execution_count": 11,
      "metadata": {
        "id": "LZ8u2wH3KKgc"
      },
      "outputs": [],
      "source": [
        "import pandas as pd"
      ]
    },
    {
      "cell_type": "code",
      "source": [
        "df = pd.read_csv('pulsar_stars.csv')"
      ],
      "metadata": {
        "id": "_2mdx3LELyTe"
      },
      "execution_count": 12,
      "outputs": []
    },
    {
      "cell_type": "code",
      "source": [
        "df['mip'].min()"
      ],
      "metadata": {
        "id": "iYguQeffL6Ib",
        "outputId": "e138913f-0119-4635-c69f-782d9ac7569a",
        "colab": {
          "base_uri": "https://localhost:8080/"
        }
      },
      "execution_count": 13,
      "outputs": [
        {
          "output_type": "execute_result",
          "data": {
            "text/plain": [
              "10.0078125"
            ]
          },
          "metadata": {},
          "execution_count": 13
        }
      ]
    },
    {
      "cell_type": "code",
      "source": [
        "from sklearn.model_selection import train_test_split\n",
        "\n",
        "X_train,X_test,y_train, y_test = train_test_split(df.drop('target',axis=1), df['target'], test_size=0.2, random_state=33, stratify=df['target'] )"
      ],
      "metadata": {
        "id": "YtSkCz13N8wF"
      },
      "execution_count": 23,
      "outputs": []
    },
    {
      "cell_type": "code",
      "source": [
        "X_train['stdc'].max()"
      ],
      "metadata": {
        "id": "xJRf94TdOt1X",
        "outputId": "fe675844-7179-4aea-9a60-9eb78c53a424",
        "colab": {
          "base_uri": "https://localhost:8080/"
        }
      },
      "execution_count": 20,
      "outputs": [
        {
          "output_type": "execute_result",
          "data": {
            "text/plain": [
              "109.6553451"
            ]
          },
          "metadata": {},
          "execution_count": 20
        }
      ]
    },
    {
      "cell_type": "code",
      "source": [
        "from sklearn.preprocessing import MinMaxScaler\n",
        "scaler = MinMaxScaler().fit(X_train)\n",
        "scaler.fit(X_train)\n",
        "X_train_scaled = pd.DataFrame(scaler.transform(X_train), index=X_train.index,columns=X_train.columns)\n",
        "X_test_scaled = pd.DataFrame(scaler.transform(X_test), index=X_test.index,columns=X_test.columns)\n",
        "\n",
        "X_train_scaled['stdip'].mean()"
      ],
      "metadata": {
        "id": "qiU747XkO3qN",
        "outputId": "9c853ace-b873-401f-c287-7593edfbb57d",
        "colab": {
          "base_uri": "https://localhost:8080/"
        }
      },
      "execution_count": 26,
      "outputs": [
        {
          "output_type": "execute_result",
          "data": {
            "text/plain": [
              "0.25572456092231716"
            ]
          },
          "metadata": {},
          "execution_count": 26
        }
      ]
    },
    {
      "cell_type": "code",
      "source": [
        "from sklearn.linear_model import LogisticRegression\n",
        "from sklearn.metrics import confusion_matrix\n",
        "from sklearn.metrics import f1_score\n",
        "\n",
        "logreg = LogisticRegression()\n",
        "logreg.fit(X_train_scaled, y_train)\n",
        "y_pred_logreg = logreg.predict(X_test_scaled)\n",
        "\n",
        "print(confusion_matrix(y_test, y_pred_logreg))\n",
        "print(f1_score(y_test, y_pred_logreg))\n"
      ],
      "metadata": {
        "id": "VbUGOgGnTbCM",
        "outputId": "609be80d-b19e-4b28-ac3d-820ebed9804f",
        "colab": {
          "base_uri": "https://localhost:8080/"
        }
      },
      "execution_count": 29,
      "outputs": [
        {
          "output_type": "stream",
          "name": "stdout",
          "text": [
            "[[539  18]\n",
            " [ 41 246]]\n",
            "0.8929219600725953\n"
          ]
        }
      ]
    },
    {
      "cell_type": "code",
      "source": [
        "from sklearn.neighbors import KNeighborsClassifier\n",
        "neigh = KNeighborsClassifier(n_neighbors=3)\n",
        "neigh.fit(X_train_scaled, y_train)\n",
        "y_pred_neigh = neigh.predict(X_test_scaled)\n",
        "\n",
        "\n",
        "print(confusion_matrix(y_test, y_pred_neigh))\n",
        "print(f1_score(y_test, y_pred_neigh))"
      ],
      "metadata": {
        "id": "PMmSL-9eZ5va",
        "outputId": "5fd1152f-3c43-484f-d94d-6c96ca1e9e23",
        "colab": {
          "base_uri": "https://localhost:8080/"
        }
      },
      "execution_count": 31,
      "outputs": [
        {
          "output_type": "stream",
          "name": "stdout",
          "text": [
            "[[540  17]\n",
            " [ 29 258]]\n",
            "0.9181494661921709\n"
          ]
        }
      ]
    }
  ]
}