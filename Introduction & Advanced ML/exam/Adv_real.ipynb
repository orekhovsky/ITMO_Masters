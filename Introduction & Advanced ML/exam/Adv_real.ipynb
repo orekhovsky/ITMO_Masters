{
  "nbformat": 4,
  "nbformat_minor": 0,
  "metadata": {
    "colab": {
      "provenance": [],
      "authorship_tag": "ABX9TyMhVEt6PL8u+MZLXjX43UfT",
      "include_colab_link": true
    },
    "kernelspec": {
      "name": "python3",
      "display_name": "Python 3"
    },
    "language_info": {
      "name": "python"
    }
  },
  "cells": [
    {
      "cell_type": "markdown",
      "metadata": {
        "id": "view-in-github",
        "colab_type": "text"
      },
      "source": [
        "<a href=\"https://colab.research.google.com/github/orekhovsky/ITMO_Masters/blob/main/Introduction%20%26%20Advanced%20ML/exam/Adv_real.ipynb\" target=\"_parent\"><img src=\"https://colab.research.google.com/assets/colab-badge.svg\" alt=\"Open In Colab\"/></a>"
      ]
    },
    {
      "cell_type": "code",
      "source": [
        "import pandas as pd\n",
        "\n",
        "train = pd.read_csv('MNIST_train.csv')\n",
        "test = pd.read_csv('MNIST_test.csv')\n",
        "\n",
        "train = train[(train['label']==0) | (train['label']==4)]\n",
        "test= test[(test['label']==0) | (test['label']==4)]\n",
        "\n",
        "X_train = train.drop('label', axis=1)\n",
        "y_train = train['label']\n",
        "\n",
        "X_test = test.drop('label',axis=1)\n",
        "y_test = test['label']"
      ],
      "metadata": {
        "id": "KDKZ-I9YvxOp"
      },
      "execution_count": 9,
      "outputs": []
    },
    {
      "cell_type": "code",
      "source": [
        "from sklearn.decomposition import PCA\n",
        "\n",
        "pca = PCA(n_components=0.79, svd_solver='full')\n",
        "\n",
        "pca.fit(X_train)\n",
        "X_train_pca = pca.transform(X_train)\n",
        "X_test_pca = pca.transform(X_test)"
      ],
      "metadata": {
        "id": "zIgka-9Rwxkk"
      },
      "execution_count": 10,
      "outputs": []
    },
    {
      "cell_type": "code",
      "source": [
        "X_train_pca.shape"
      ],
      "metadata": {
        "colab": {
          "base_uri": "https://localhost:8080/"
        },
        "id": "Kc5LcU2Qx1OH",
        "outputId": "3cddd3a9-ae50-4097-83ec-d0f58e2b1ea0"
      },
      "execution_count": 11,
      "outputs": [
        {
          "output_type": "execute_result",
          "data": {
            "text/plain": [
              "(11765, 31)"
            ]
          },
          "metadata": {},
          "execution_count": 11
        }
      ]
    },
    {
      "cell_type": "code",
      "source": [
        "X_train_pca[6][6]"
      ],
      "metadata": {
        "colab": {
          "base_uri": "https://localhost:8080/"
        },
        "id": "T9h2Kh8kx8R0",
        "outputId": "1fb1247d-1910-468b-f352-6f04e7e5ddba"
      },
      "execution_count": 12,
      "outputs": [
        {
          "output_type": "execute_result",
          "data": {
            "text/plain": [
              "-394.2281502210445"
            ]
          },
          "metadata": {},
          "execution_count": 12
        }
      ]
    },
    {
      "cell_type": "code",
      "source": [
        "from sklearn.ensemble import AdaBoostClassifier\n",
        "from sklearn.tree import DecisionTreeClassifier\n",
        "from sklearn.metrics import classification_report\n",
        "from sklearn.metrics import confusion_matrix\n",
        "\n",
        "abc = AdaBoostClassifier(\n",
        "    estimator=DecisionTreeClassifier(max_depth=3, class_weight='balanced'),\n",
        "    n_estimators=300,\n",
        "    learning_rate=0.5,\n",
        "    random_state=21)\n",
        "\n",
        "abc.fit(X_train_pca, y_train)\n",
        "y_pred_abc = abc.predict(X_test_pca)\n",
        "\n",
        "print(classification_report(y_test,y_pred_abc))\n",
        "print(confusion_matrix(y_test,y_pred_abc))"
      ],
      "metadata": {
        "colab": {
          "base_uri": "https://localhost:8080/"
        },
        "id": "76RPgyk7yG1k",
        "outputId": "3ee1de7b-49df-4c05-d6c7-05790ad61075"
      },
      "execution_count": 16,
      "outputs": [
        {
          "output_type": "stream",
          "name": "stdout",
          "text": [
            "              precision    recall  f1-score   support\n",
            "\n",
            "           0       1.00      1.00      1.00       980\n",
            "           4       1.00      1.00      1.00       982\n",
            "\n",
            "    accuracy                           1.00      1962\n",
            "   macro avg       1.00      1.00      1.00      1962\n",
            "weighted avg       1.00      1.00      1.00      1962\n",
            "\n",
            "[[978   2]\n",
            " [  0 982]]\n"
          ]
        }
      ]
    },
    {
      "cell_type": "code",
      "source": [
        "from sklearn.ensemble import GradientBoostingClassifier\n",
        "gbc = GradientBoostingClassifier(n_estimators=500, learning_rate=0.8, random_state=21, max_depth=2)\n",
        "gbc.fit(X_train_pca, y_train)\n",
        "y_pred_gbc = gbc.predict(X_test_pca)\n",
        "\n",
        "print(classification_report(y_test,y_pred_gbc))\n",
        "print(confusion_matrix(y_test,y_pred_gbc))"
      ],
      "metadata": {
        "colab": {
          "base_uri": "https://localhost:8080/"
        },
        "id": "tmzF_BCBzt4D",
        "outputId": "cd4c751d-a03a-4c5c-e35a-daed5c1a8dc8"
      },
      "execution_count": 17,
      "outputs": [
        {
          "output_type": "stream",
          "name": "stdout",
          "text": [
            "              precision    recall  f1-score   support\n",
            "\n",
            "           0       1.00      1.00      1.00       980\n",
            "           4       1.00      1.00      1.00       982\n",
            "\n",
            "    accuracy                           1.00      1962\n",
            "   macro avg       1.00      1.00      1.00      1962\n",
            "weighted avg       1.00      1.00      1.00      1962\n",
            "\n",
            "[[977   3]\n",
            " [  1 981]]\n"
          ]
        }
      ]
    },
    {
      "cell_type": "code",
      "source": [
        "from sklearn.metrics import accuracy_score\n",
        "\n",
        "accuracy_score(y_test,y_pred_gbc)"
      ],
      "metadata": {
        "colab": {
          "base_uri": "https://localhost:8080/"
        },
        "id": "lxntEL9A0kuF",
        "outputId": "24ff08a3-8b58-436e-9975-56656acef8a6"
      },
      "execution_count": 18,
      "outputs": [
        {
          "output_type": "execute_result",
          "data": {
            "text/plain": [
              "0.9979612640163099"
            ]
          },
          "metadata": {},
          "execution_count": 18
        }
      ]
    }
  ]
}