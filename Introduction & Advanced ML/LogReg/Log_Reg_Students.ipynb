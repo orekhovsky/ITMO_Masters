{
  "nbformat": 4,
  "nbformat_minor": 0,
  "metadata": {
    "colab": {
      "provenance": [],
      "include_colab_link": true
    },
    "kernelspec": {
      "name": "python3",
      "display_name": "Python 3"
    },
    "language_info": {
      "name": "python"
    }
  },
  "cells": [
    {
      "cell_type": "markdown",
      "metadata": {
        "id": "view-in-github",
        "colab_type": "text"
      },
      "source": [
        "<a href=\"https://colab.research.google.com/github/orekhovsky/ITMO_Masters/blob/main/Introduction%20%26%20Advanced%20ML/LogReg/Log_Reg_Students.ipynb\" target=\"_parent\"><img src=\"https://colab.research.google.com/assets/colab-badge.svg\" alt=\"Open In Colab\"/></a>"
      ]
    },
    {
      "cell_type": "markdown",
      "source": [
        "# Применение логистической регрессии для решения задачи классификации"
      ],
      "metadata": {
        "id": "S2Zv-8wrSmbU"
      }
    },
    {
      "cell_type": "markdown",
      "source": [
        "# Описание набора данных"
      ],
      "metadata": {
        "id": "Fsaq3T7JS9Ox"
      }
    },
    {
      "cell_type": "markdown",
      "source": [
        "Данный набор содержит информацию о пассажирах корабля «Титаник», затонувшего в ночь на 15-е апреля 1912 года. Некоторое количество пассажиров спаслось, чему способствовало множество различных факторов, включая их пол, возраст, на какой палубе находилась их кабина, социальный статус, и т.д.\n",
        "\n",
        "Набор данных состоит из различных признаков, описывающих информацию о пассажирах. Каждая строка таблицы — отдельный пассажир, вся информация о нем содержится в его строке.\n",
        "\n",
        "Описание датасета:\n",
        "- **Survived** (целевой признак): выжил ли пассажир (0 = Нет, 1 = Да);\n",
        "- **Pclass**: класс каюты (1 = 1st, 2 = 2nd, 3 = 3rd);\n",
        "- **Sex**: пол (female или male)\n",
        "- **Age**: возраст в годах\n",
        "- **SibSp**: количество братьев, сестёр (в том числе сводных) и супругов на борту\n",
        "- **Parch**: количество детей и родителей на борту\n",
        "- **Ticket**: номер билета\n",
        "- **Fare**: стоимость проезда пассажира\n",
        "- **Cabin**: номер каюты\n",
        "- **Embarked**: порт посадки пассажира (C = Cherbourg, Q = Queenstown, S = Southampton).\n",
        "\n",
        "Необходимо решить задачу классификации и научиться предсказывать целовой признак **Survived** — выживет ли пассажир — по соответсвующим ему нецелевым признакам.\n"
      ],
      "metadata": {
        "id": "ekwIM8kmTAx5"
      }
    },
    {
      "cell_type": "markdown",
      "source": [
        "# Подготовка и первичный анализ данных"
      ],
      "metadata": {
        "id": "SjI-Ub1GYbKX"
      }
    },
    {
      "cell_type": "code",
      "source": [
        "import numpy as np\n",
        "import pandas as pd\n",
        "import matplotlib.pyplot as plt\n",
        "import seaborn as sns\n",
        "from sklearn.linear_model import LogisticRegression\n",
        "from sklearn.metrics import f1_score\n",
        "from sklearn.metrics import classification_report\n",
        "from sklearn.model_selection import train_test_split"
      ],
      "metadata": {
        "id": "a_MzT3cKTuR9"
      },
      "execution_count": 11,
      "outputs": []
    },
    {
      "cell_type": "markdown",
      "source": [
        "Установите количество пропущенных значений поля <code>age</code>:"
      ],
      "metadata": {
        "id": "KY4ZYwUuUNwx"
      }
    },
    {
      "cell_type": "code",
      "source": [
        "df_train = pd.read_csv('titanic_train.csv')\n",
        "print(sum(df_train['age'].isna()))"
      ],
      "metadata": {
        "id": "Ii5ITpGJUShn",
        "outputId": "58b5173e-b109-462f-c4bb-37a286d107ca",
        "colab": {
          "base_uri": "https://localhost:8080/"
        }
      },
      "execution_count": 2,
      "outputs": [
        {
          "output_type": "stream",
          "name": "stdout",
          "text": [
            "199\n"
          ]
        }
      ]
    },
    {
      "cell_type": "markdown",
      "source": [
        "Определите долю выживших"
      ],
      "metadata": {
        "id": "gOqnpfJkU6Ll"
      }
    },
    {
      "cell_type": "code",
      "source": [
        "sns.histplot(df_train['survived'], discrete=True)\n",
        "counts = df_train['survived'].value_counts()\n",
        "print(counts[1]/sum(counts))"
      ],
      "metadata": {
        "id": "dHdTN-odVAIb",
        "outputId": "3b7e11f2-9c62-4098-e01b-e1b27083230b",
        "colab": {
          "base_uri": "https://localhost:8080/",
          "height": 466
        }
      },
      "execution_count": 3,
      "outputs": [
        {
          "output_type": "stream",
          "name": "stdout",
          "text": [
            "0.382262996941896\n"
          ]
        },
        {
          "output_type": "display_data",
          "data": {
            "text/plain": [
              "<Figure size 640x480 with 1 Axes>"
            ],
            "image/png": "[encoded data removed]"
          },
          "metadata": {}
        }
      ]
    },
    {
      "cell_type": "markdown",
      "source": [
        "Определите долю пропущенных значений в рамках каждого признака и избавьтесь от тех признаков, где доля пропусков больше трети. Также удалите колонку <code>ticket</code>, вряд ли эта информация будет полезной."
      ],
      "metadata": {
        "id": "MJS0wozuVoWt"
      }
    },
    {
      "cell_type": "code",
      "source": [
        "missing_values = df_train.isnull().mean()\n",
        "display(missing_values)\n",
        "\n",
        "threshold = 1/3\n",
        "columns_to_drop = missing_values[missing_values > threshold].index\n",
        "df_train.drop(columns_to_drop, axis=1, inplace=True)\n",
        "df_train.drop(['ticket'], axis=1, inplace=True)"
      ],
      "metadata": {
        "id": "43ptqUREVz-t",
        "outputId": "0cf97402-517d-4f91-e1b0-fb416c607c0c",
        "colab": {
          "base_uri": "https://localhost:8080/",
          "height": 460
        }
      },
      "execution_count": 4,
      "outputs": [
        {
          "output_type": "display_data",
          "data": {
            "text/plain": [
              "pclass       0.000000\n",
              "survived     0.000000\n",
              "name         0.000000\n",
              "sex          0.000000\n",
              "age          0.202854\n",
              "sibsp        0.000000\n",
              "parch        0.000000\n",
              "ticket       0.000000\n",
              "fare         0.000000\n",
              "cabin        0.783894\n",
              "embarked     0.000000\n",
              "home.dest    0.422018\n",
              "dtype: float64"
            ],
            "text/html": [
              "<div>\n",
              "<style scoped>\n",
              "    .dataframe tbody tr th:only-of-type {\n",
              "        vertical-align: middle;\n",
              "    }\n",
              "\n",
              "    .dataframe tbody tr th {\n",
              "        vertical-align: top;\n",
              "    }\n",
              "\n",
              "    .dataframe thead th {\n",
              "        text-align: right;\n",
              "    }\n",
              "</style>\n",
              "<table border=\"1\" class=\"dataframe\">\n",
              "  <thead>\n",
              "    <tr style=\"text-align: right;\">\n",
              "      <th></th>\n",
              "      <th>0</th>\n",
              "    </tr>\n",
              "  </thead>\n",
              "  <tbody>\n",
              "    <tr>\n",
              "      <th>pclass</th>\n",
              "      <td>0.000000</td>\n",
              "    </tr>\n",
              "    <tr>\n",
              "      <th>survived</th>\n",
              "      <td>0.000000</td>\n",
              "    </tr>\n",
              "    <tr>\n",
              "      <th>name</th>\n",
              "      <td>0.000000</td>\n",
              "    </tr>\n",
              "    <tr>\n",
              "      <th>sex</th>\n",
              "      <td>0.000000</td>\n",
              "    </tr>\n",
              "    <tr>\n",
              "      <th>age</th>\n",
              "      <td>0.202854</td>\n",
              "    </tr>\n",
              "    <tr>\n",
              "      <th>sibsp</th>\n",
              "      <td>0.000000</td>\n",
              "    </tr>\n",
              "    <tr>\n",
              "      <th>parch</th>\n",
              "      <td>0.000000</td>\n",
              "    </tr>\n",
              "    <tr>\n",
              "      <th>ticket</th>\n",
              "      <td>0.000000</td>\n",
              "    </tr>\n",
              "    <tr>\n",
              "      <th>fare</th>\n",
              "      <td>0.000000</td>\n",
              "    </tr>\n",
              "    <tr>\n",
              "      <th>cabin</th>\n",
              "      <td>0.783894</td>\n",
              "    </tr>\n",
              "    <tr>\n",
              "      <th>embarked</th>\n",
              "      <td>0.000000</td>\n",
              "    </tr>\n",
              "    <tr>\n",
              "      <th>home.dest</th>\n",
              "      <td>0.422018</td>\n",
              "    </tr>\n",
              "  </tbody>\n",
              "</table>\n",
              "</div><br><label><b>dtype:</b> float64</label>"
            ]
          },
          "metadata": {}
        }
      ]
    },
    {
      "cell_type": "markdown",
      "source": [
        "Из описания набора данных видно, что колонки <code>sibsp</code> и <code>parch</code> по сути отвечают за размер семьи. Замените эти две колонки на колонку <code>fam_size</code>, значения которой будут вычисляться как сумма соответствующих значений в колонках <code>sibsp</code> и <code>parch</code>."
      ],
      "metadata": {
        "id": "5Porb6vGmpke"
      }
    },
    {
      "cell_type": "code",
      "source": [
        "df_train['fam_size'] = df_train['sibsp'] + df_train['parch']\n",
        "df_train.drop(columns=['sibsp', 'parch'], inplace=True)\n",
        "df_train['fam_size'].mean()"
      ],
      "metadata": {
        "id": "knvpyHMrm4f-",
        "outputId": "5401ab82-27a2-492b-e23b-c7e88b84a367",
        "colab": {
          "base_uri": "https://localhost:8080/"
        }
      },
      "execution_count": 5,
      "outputs": [
        {
          "output_type": "execute_result",
          "data": {
            "text/plain": [
              "0.8664627930682977"
            ]
          },
          "metadata": {},
          "execution_count": 5
        }
      ]
    },
    {
      "cell_type": "markdown",
      "source": [
        "Полученный датасет будем называть **исходным** (выброшенные на этом этапе признаки не нужно возвращать ни на одном из последующих этапов выполнения задания). Вычислите полученное число предикторов."
      ],
      "metadata": {
        "id": "X9Cmdl5fmyoi"
      }
    },
    {
      "cell_type": "code",
      "source": [
        "print(len(df_train.columns)-1)"
      ],
      "metadata": {
        "id": "XdpdKkEBUT52",
        "outputId": "0dfcc142-430d-41d8-ff43-d6200dbae1c2",
        "colab": {
          "base_uri": "https://localhost:8080/"
        }
      },
      "execution_count": 6,
      "outputs": [
        {
          "output_type": "stream",
          "name": "stdout",
          "text": [
            "7\n"
          ]
        }
      ]
    },
    {
      "cell_type": "markdown",
      "source": [
        "На основе имеющейся статистики оцените вероятность выжить если пассажир -- представитель определенной категории (указана в вашем индивидуальном задании)"
      ],
      "metadata": {
        "id": "wQOvPyj8Vx00"
      }
    },
    {
      "cell_type": "code",
      "source": [
        "len(df_train.query('sex == \"female\" & pclass == 1 & survived ==1'))/len(df_train.query('sex == \"female\" & pclass == 1'))"
      ],
      "metadata": {
        "id": "hFpZp4LaeS9Q",
        "outputId": "2173eecd-c7d9-4def-b943-66e28e65e3f5",
        "colab": {
          "base_uri": "https://localhost:8080/"
        }
      },
      "execution_count": 7,
      "outputs": [
        {
          "output_type": "execute_result",
          "data": {
            "text/plain": [
              "0.9711538461538461"
            ]
          },
          "metadata": {},
          "execution_count": 7
        }
      ]
    },
    {
      "cell_type": "markdown",
      "source": [
        "Постройте гистограммы выжиших и невыживших по возрастам."
      ],
      "metadata": {
        "id": "sXxprQtFhSy4"
      }
    },
    {
      "cell_type": "code",
      "source": [
        "sns.histplot(data=df_train.query('survived == 0'), x='age')"
      ],
      "metadata": {
        "id": "K3wHT2Uzr3nb",
        "outputId": "c1781ad8-b4d3-44b5-ff96-ce3da9a80e6c",
        "colab": {
          "base_uri": "https://localhost:8080/",
          "height": 466
        }
      },
      "execution_count": 8,
      "outputs": [
        {
          "output_type": "execute_result",
          "data": {
            "text/plain": [
              "<Axes: xlabel='age', ylabel='Count'>"
            ]
          },
          "metadata": {},
          "execution_count": 8
        },
        {
          "output_type": "display_data",
          "data": {
            "text/plain": [
              "<Figure size 640x480 with 1 Axes>"
            ],
            "image/png": "[encoded data removed]"
          },
          "metadata": {}
        }
      ]
    },
    {
      "cell_type": "code",
      "source": [
        "sns.histplot(data=df_train.query('survived == 1'), x='age')"
      ],
      "metadata": {
        "id": "da7OKwCHXHwF",
        "outputId": "1e0be7e8-5537-435b-feed-ce77bcf4cde6",
        "colab": {
          "base_uri": "https://localhost:8080/",
          "height": 466
        }
      },
      "execution_count": 9,
      "outputs": [
        {
          "output_type": "execute_result",
          "data": {
            "text/plain": [
              "<Axes: xlabel='age', ylabel='Count'>"
            ]
          },
          "metadata": {},
          "execution_count": 9
        },
        {
          "output_type": "display_data",
          "data": {
            "text/plain": [
              "<Figure size 640x480 with 1 Axes>"
            ],
            "image/png": "[encoded data removed]"
          },
          "metadata": {}
        }
      ]
    },
    {
      "cell_type": "markdown",
      "source": [
        "# Модель на основе числовых признаков"
      ],
      "metadata": {
        "id": "u_bO7O9v0ovG"
      }
    },
    {
      "cell_type": "markdown",
      "source": [
        "## Удаление строк с пропусками"
      ],
      "metadata": {
        "id": "VJPhFX8M38SF"
      }
    },
    {
      "cell_type": "markdown",
      "source": [
        "В качестве базовой модели имеет смысл построить модель с минимальными трудозатратами.\n",
        "\n",
        "Из исходного датасета удалите все категориальные признаки, а также строки, содержащие пропуски.\n",
        "\n",
        "При помощи <code>train_test_split()</code> разбейте набор данных на обучающую и тестовую выборки<b> с параметрами, указанными в вашем задании</b>. Используйте стратификацию по колонке <code>survived</code>.\n",
        "\n",
        "Обучите модель <code>LogisticRegression()</code> <b>с параметрами, указанными в вашем задании</b>, на тренировочных данных, оцените на тестовых.\n",
        "\n",
        "Вычислите <code>f1_score</code> модели на тестовых данных (рекомендуем использовать <a href=\"https://scikit-learn.org/stable/modules/generated/sklearn.metrics.f1_score.html\">соответствующую функцию</a> с параметрами по умолчанию.\n",
        "\n"
      ],
      "metadata": {
        "id": "kAO1Bd2Q0qZr"
      }
    },
    {
      "cell_type": "code",
      "source": [
        "numeric_cols = df_train.select_dtypes(include='number').columns\n",
        "df1 = df_train[numeric_cols]\n",
        "df1 = df1.dropna()\n",
        "\n",
        "X_train, X_test, y_train, y_test = train_test_split(df1.drop(columns=['survived']), df1['survived'], test_size=0.2, random_state=11, stratify=df1['survived'])\n",
        "\n",
        "model = LogisticRegression(random_state=11, max_iter=1000)\n",
        "model.fit(X_train, y_train)\n",
        "f1_score(y_test, model.predict(X_test))"
      ],
      "metadata": {
        "id": "8JJ6qQT618Uz",
        "outputId": "e5106e69-7847-42ac-8779-464e353d2d82",
        "colab": {
          "base_uri": "https://localhost:8080/"
        }
      },
      "execution_count": 12,
      "outputs": [
        {
          "output_type": "execute_result",
          "data": {
            "text/plain": [
              "0.5471698113207547"
            ]
          },
          "metadata": {},
          "execution_count": 12
        }
      ]
    },
    {
      "cell_type": "markdown",
      "source": [
        "## Заполнение пропусков средним"
      ],
      "metadata": {
        "id": "UL6H4BxE3y-f"
      }
    },
    {
      "cell_type": "markdown",
      "source": [
        "Качество полученной модели оставляет желать лучшего. Имеет смысл попробовать заполнить пропуски. Из исходного набора данных удалите категориальные признаки, а пропуски заполните средним по столбцу. Далее аналогично: разделение, обучение, оценка.\n",
        "\n",
        "Вычислите <code>f1_score</code> модели на тестовых данных"
      ],
      "metadata": {
        "id": "vD6NntW04OJF"
      }
    },
    {
      "cell_type": "code",
      "source": [
        "numeric_cols = df_train.select_dtypes(include='number').columns\n",
        "df2 = df_train[numeric_cols]\n",
        "df2 = df2.fillna(np.mean(df2['age']))\n",
        "\n",
        "X_train, X_test, y_train, y_test = train_test_split(df2.drop(columns=['survived']), df2['survived'], test_size=0.2, random_state=11, stratify=df2['survived'])\n",
        "model = LogisticRegression(random_state=11, max_iter=1000)\n",
        "model.fit(X_train, y_train)\n",
        "f1_score(y_test, model.predict(X_test))"
      ],
      "metadata": {
        "id": "zMYFLiWZ4Gw-",
        "outputId": "7a5d563e-4ed7-4ac1-a2a8-87845e5b43f7",
        "colab": {
          "base_uri": "https://localhost:8080/"
        }
      },
      "execution_count": 13,
      "outputs": [
        {
          "output_type": "execute_result",
          "data": {
            "text/plain": [
              "0.4297520661157025"
            ]
          },
          "metadata": {},
          "execution_count": 13
        }
      ]
    },
    {
      "cell_type": "markdown",
      "source": [
        "## Заполнение пропусков на основе обращения"
      ],
      "metadata": {
        "id": "dxuJDvb1_p_e"
      }
    },
    {
      "cell_type": "markdown",
      "source": [
        "\n",
        "Очевидно, что заполнение пропусков в колонке <code>age</code> средним — не самая разумная идея. Возможно, стоит выполнить эту процедуру как-то более интеллектуально, например, с оглядкой на обращение к человеку.\n",
        "\n",
        "Можно заметить, что исходный датасет в столбце <code>name</code> содержит информацию о социальном статусе пассажира, а именно присутсвуют обращения <code>Mr., Mrs., Dr.</code> и т.д. На основе этой информации можно попробовать сделать предположение о возрасте пассажира.\n",
        "\n",
        "Верните в рассмотрение колонку <code>name</code>. Создайте отдельную колонку <code>honorific</code> и поместите туда значения обращений.\n",
        "\n",
        "Вычислите число уникальных обращений."
      ],
      "metadata": {
        "id": "9ew5okxzKdLh"
      }
    },
    {
      "cell_type": "code",
      "source": [
        "import re\n",
        "# Определяем функцию для поиска обращений в имени\n",
        "def extract_title(name):\n",
        "    title_search = re.search(r'([A-Z][a-z]+\\.)', name)\n",
        "    if title_search:\n",
        "        return title_search.group()[:-1]  # Исключаем последнюю точку\n",
        "    else:\n",
        "        return None\n",
        "\n",
        "# Создаем новый столбец 'title' и применяем функцию extract_title к столбцу 'name'\n",
        "df_train['honorific'] = df_train['name'].apply(extract_title)\n",
        "\n",
        "print(df_train['honorific'].unique())\n",
        "print(df_train['honorific'].nunique())"
      ],
      "metadata": {
        "id": "fMbYRoa-DArO",
        "outputId": "0b081eda-59ff-4e32-8690-4c20835aa889",
        "colab": {
          "base_uri": "https://localhost:8080/"
        }
      },
      "execution_count": 14,
      "outputs": [
        {
          "output_type": "stream",
          "name": "stdout",
          "text": [
            "['Miss' 'Mrs' 'Mr' 'Master' 'Mlle' 'Rev' 'Ms' 'Col' 'Dona' 'Dr' 'Countess'\n",
            " 'Major' 'Don' 'Capt']\n",
            "14\n"
          ]
        }
      ]
    },
    {
      "cell_type": "markdown",
      "source": [
        "Скорее всего имеет смысл сократить число обращений, добавив малочисленные группы к более многочисленным, так как принципиальной разницы между, например, <code>Don</code> и <code>Mr</code>, видимо, нет. Отметим, что <code>Master</code> — это прежнее обращение к ребенку, с этим обращением будем работать отдельно.\n",
        "\n",
        "\n",
        "\n",
        "\n",
        "Выполните следующие замены:\n",
        "\n",
        "<code>Mr</code> $\\leftarrow$ <code>['Rev', 'Col', 'Dr', 'Major', 'Don', 'Capt']</code>\n",
        "\n",
        "<code>Mrs</code> $\\leftarrow$ <code> ['Dona', 'Countess']</code>\n",
        "\n",
        "<code>Miss</code> $\\leftarrow$ <code> ['Mlle', 'Ms']</code>"
      ],
      "metadata": {
        "id": "6HNMeGu9GJWN"
      }
    },
    {
      "cell_type": "code",
      "source": [
        "Mr, Mrs, Miss = ['Rev', 'Col', 'Dr', 'Major', 'Don', 'Capt'], ['Dona', 'Countess'], ['Mlle', 'Ms']\n",
        "\n",
        "def change_name(name):\n",
        "    if name in Mr:\n",
        "        return 'Mr'\n",
        "    elif name in Mrs:\n",
        "        return 'Mrs'\n",
        "    elif name in Miss:\n",
        "        return 'Miss'\n",
        "    else:\n",
        "        return name\n",
        "\n",
        "\n",
        "df_train['honorific'] = df_train['honorific'].apply(change_name)"
      ],
      "metadata": {
        "id": "jiQBH3_8G0SF"
      },
      "execution_count": 15,
      "outputs": []
    },
    {
      "cell_type": "markdown",
      "source": [
        "Вычислите долю строк со значением <code>Master</code> относительно числа всех мужчин"
      ],
      "metadata": {
        "id": "qh-KpfttKxYD"
      }
    },
    {
      "cell_type": "code",
      "source": [
        "len(df_train[df_train['honorific']=='Master'])/len(df_train[df_train['sex']=='male'])"
      ],
      "metadata": {
        "id": "2g2fHrAGK_CA",
        "outputId": "becebe5a-2fb6-4c5c-f3ba-0b1b74c73cd7",
        "colab": {
          "base_uri": "https://localhost:8080/"
        }
      },
      "execution_count": 16,
      "outputs": [
        {
          "output_type": "execute_result",
          "data": {
            "text/plain": [
              "0.07232704402515723"
            ]
          },
          "metadata": {},
          "execution_count": 16
        }
      ]
    },
    {
      "cell_type": "markdown",
      "source": [
        "Вычислите средний возраст категории, указанной в вашем индивидуальном задании"
      ],
      "metadata": {
        "id": "XD7hs0k7L77K"
      }
    },
    {
      "cell_type": "code",
      "source": [
        "np.mean(df_train[df_train['honorific']=='Miss']['age'])"
      ],
      "metadata": {
        "id": "stKBPTCQMGlf",
        "outputId": "b74d5b9d-d789-4690-9a42-ec96fcd5719c",
        "colab": {
          "base_uri": "https://localhost:8080/"
        }
      },
      "execution_count": 17,
      "outputs": [
        {
          "output_type": "execute_result",
          "data": {
            "text/plain": [
              "22.00576540880503"
            ]
          },
          "metadata": {},
          "execution_count": 17
        }
      ]
    },
    {
      "cell_type": "markdown",
      "source": [
        "Заполните пропуски в колонке <code>age</code> средним, соответствующим среднему категории <code>honorific</code>.\n",
        "\n",
        "Избавьтесь от нечисловых признаков. Далее аналогично: разделение, обучение, оценка.\n",
        "\n",
        "Вычислите <code>f1_score</code> модели на тестовых данных"
      ],
      "metadata": {
        "id": "cQ4Z0tKNLk_B"
      }
    },
    {
      "cell_type": "code",
      "source": [
        "mean_miss = np.mean(df_train[df_train['honorific']=='Miss']['age'])\n",
        "mean_master = np.mean(df_train[df_train['honorific']=='Master']['age'])\n",
        "mean_mr = np.mean(df_train[df_train['honorific']=='Mr']['age'])\n",
        "mean_mrs = np.mean(df_train[df_train['honorific']=='Mrs']['age'])"
      ],
      "metadata": {
        "id": "B5c_i_6HN3aA"
      },
      "execution_count": 19,
      "outputs": []
    },
    {
      "cell_type": "markdown",
      "source": [
        "# Модель с использование категориальных признаков"
      ],
      "metadata": {
        "id": "YGCBn1fiSbjG"
      }
    },
    {
      "cell_type": "markdown",
      "source": [
        "В исходном наборе данных заполните пропуски колонки <code>age</code> значениями на основе обращений (как в предыдущем пункте).\n",
        "\n",
        "Не используйте признаки <code>name</code> и <code>honorific</code>. Они свою функцию выполнили.\n",
        "\n",
        "Произведите <code>one-hot</code> кодировние нечисловых признаков, например, с помощью <code>pd.get_dummies(drop_first=True)</code>. Далее по знакомой схеме: разделение, обучение, оценка.\n",
        "\n",
        "Вычислите <code>f1_score</code> модели на тестовых данных"
      ],
      "metadata": {
        "id": "BlILajPNTMgL"
      }
    },
    {
      "cell_type": "code",
      "source": [
        "df_train['age'] = df_train.apply(lambda row: mean_miss if row['honorific'] == 'Miss' and pd.isnull(row['age']) else\n",
        "                                  mean_master if row['honorific'] == 'Master' and pd.isnull(row['age']) else\n",
        "                                  mean_mr if row['honorific'] == 'Mr' and pd.isnull(row['age']) else\n",
        "                                  mean_mrs if row['honorific'] == 'Mrs' and pd.isnull(row['age']) else\n",
        "                                  row['age'], axis=1)\n",
        "\n",
        "numeric_cols = df_train.select_dtypes(include='number').columns\n",
        "df3 = df_train[numeric_cols]\n",
        "\n",
        "X_train, X_test, y_train, y_test = train_test_split(df3.drop(columns=['survived']), df3['survived'], test_size=0.2, random_state=11, stratify=df3['survived'])\n",
        "model = LogisticRegression(random_state=11, max_iter=1000)\n",
        "model.fit(X_train, y_train)\n",
        "f1_score(y_test, model.predict(X_test))"
      ],
      "metadata": {
        "id": "AiRm3GIdUsVt",
        "outputId": "ef06f037-8126-4524-bb3e-0e3541f108a1",
        "colab": {
          "base_uri": "https://localhost:8080/"
        }
      },
      "execution_count": 20,
      "outputs": [
        {
          "output_type": "execute_result",
          "data": {
            "text/plain": [
              "0.43902439024390244"
            ]
          },
          "metadata": {},
          "execution_count": 20
        }
      ]
    },
    {
      "cell_type": "markdown",
      "source": [
        "3. Модель с использованим категориальных признаков\n",
        "\n",
        "В исходном наборе данных заполните пропуски колонки age значениями на основе обращений (как в предыдущем пункте). После этого выбросите признаки name и honorific. Они свою функцию выполнили.\n",
        "\n",
        "Произведите one-hot кодировние нечисловых признаков, например, с помощью pd.get_dummies(drop_first=True). Далее по знакомой схеме: разделение, обучение, оценка.\n",
        "\n",
        "Вычислите f1_score модели на тестовых данных."
      ],
      "metadata": {
        "id": "wX2zuWQZYp4z"
      }
    },
    {
      "cell_type": "code",
      "source": [
        "df_train = pd.get_dummies(df_train.drop(columns=['name', 'honorific']), drop_first=True)\n",
        "\n",
        "X_train, X_test, y_train, y_test = train_test_split(df_train.drop(columns=['survived']), df_train['survived'], test_size=0.2, random_state=11, stratify=df_train['survived'])\n",
        "model = LogisticRegression(random_state=11, max_iter=1000)\n",
        "model.fit(X_train, y_train)\n",
        "f1_score(y_test, model.predict(X_test))"
      ],
      "metadata": {
        "id": "J6YBkphpYlge",
        "outputId": "7f190131-4f87-4db9-8bda-ad408abb693d",
        "colab": {
          "base_uri": "https://localhost:8080/"
        }
      },
      "execution_count": 21,
      "outputs": [
        {
          "output_type": "execute_result",
          "data": {
            "text/plain": [
              "0.6575342465753424"
            ]
          },
          "metadata": {},
          "execution_count": 21
        }
      ]
    },
    {
      "cell_type": "markdown",
      "source": [
        "# 2 задача"
      ],
      "metadata": {
        "id": "Y1Tzu6gzbvOe"
      }
    },
    {
      "cell_type": "code",
      "source": [
        "[0, 1, 0, 0, 1, 0, 1, 0, 0, 1, 0, 1, 0, 0, 0, 1, 0, 0, 0, 1, 1, 0,\n",
        "       1, 0, 1, 1, 0, 0, 0, 1, 0, 0, 0, 0, 1, 1, 0, 1, 0, 0, 1, 0, 0, 0,\n",
        "       0, 0, 0, 1, 0, 0, 1, 0, 1, 0, 0, 1, 0, 1, 1, 1, 1, 0, 0, 0, 0, 0,\n",
        "       1, 0, 1, 0, 1, 1, 1, 1, 1, 1, 0, 1, 0, 0, 0, 0, 0, 1, 0, 1, 0, 1,\n",
        "       0, 0, 1, 1, 1, 0, 1, 1, 0, 0, 1, 0, 0, 0, 0, 0, 0, 0, 1, 0, 0, 1,\n",
        "       0, 0, 1, 0, 0, 0, 1, 1, 0, 0, 1, 0, 0, 0, 1, 1, 0, 0, 0, 1, 1, 1,\n",
        "       0, 1, 1, 1, 0, 0, 0, 1, 0, 0, 1, 1, 0, 0, 1, 0, 0, 1, 0, 0, 0, 0,\n",
        "       0, 0, 1, 0, 0, 1, 0, 0, 1, 0, 1, 1, 0, 1, 0, 0, 1, 1, 0, 0, 0, 1,\n",
        "       0, 1, 1, 0, 0, 1, 0, 0, 0, 1, 0, 0, 0, 0, 0, 0, 0, 0, 1, 1, 1, 0,\n",
        "       1, 1, 0, 0, 1, 0, 0, 0, 0, 0, 1, 1, 0, 0, 1, 1, 0, 0, 0, 1, 1, 1,\n",
        "       0, 0, 0, 1, 0, 0, 1, 0, 1, 1, 0, 1, 0, 0, 0, 1, 0, 0, 0, 0, 0, 1,\n",
        "       1, 1, 0, 0, 1, 0, 0, 0, 1, 0, 1, 0, 1, 0, 1, 0, 0, 0, 1, 0, 0, 1,\n",
        "       0, 1, 0, 0, 1, 0, 0, 0, 0, 1, 1, 0, 1, 0, 0, 1, 1, 1, 0, 1, 1, 0,\n",
        "       0, 0, 0, 1, 1, 1, 0, 1, 0, 1, 0, 0, 1, 1, 0, 0, 1, 0, 1, 0, 1, 1,\n",
        "       0, 0, 0, 0, 1, 1, 0, 0, 0, 1, 0, 1, 0, 0, 1, 1, 0, 1, 0, 1]"
      ],
      "metadata": {
        "id": "Qe9lyNJcby1w"
      },
      "execution_count": null,
      "outputs": []
    }
  ]
}