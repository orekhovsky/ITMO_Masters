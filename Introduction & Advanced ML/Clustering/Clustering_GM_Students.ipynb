{
  "nbformat": 4,
  "nbformat_minor": 0,
  "metadata": {
    "colab": {
      "provenance": [],
      "include_colab_link": true
    },
    "kernelspec": {
      "name": "python3",
      "display_name": "Python 3"
    },
    "language_info": {
      "name": "python"
    }
  },
  "cells": [
    {
      "cell_type": "markdown",
      "metadata": {
        "id": "view-in-github",
        "colab_type": "text"
      },
      "source": [
        "<a href=\"https://colab.research.google.com/github/orekhovsky/ITMO_Masters/blob/main/Introduction%20%26%20Advanced%20ML/Clustering/Clustering_GM_Students.ipynb\" target=\"_parent\"><img src=\"https://colab.research.google.com/assets/colab-badge.svg\" alt=\"Open In Colab\"/></a>"
      ]
    },
    {
      "cell_type": "markdown",
      "source": [
        "# Генеративная модель на основе гауссовых смесей"
      ],
      "metadata": {
        "collapsed": false,
        "pycharm": {
          "name": "#%% md\n"
        },
        "id": "aqMY86T_7hsP"
      }
    },
    {
      "cell_type": "markdown",
      "source": [
        "Гауссовы смеси — естественное математическое обобщение алгоритма `K-means`. По сути, подход ищет не просто какие-то кучки вокруг формирующихся центроидов, а некоторую смесь многомерных нормальных распределений (по сути — тоже кучки вокруг средних со своими дисперсиями). Так как такой подход оценивает плотности распределений, то он часто используется в задачах KDE (kernel density estimation). В том числе, он может быть применен к задаче генерации: если есть плотность распределения, то можно семплировать и получать новые объекты. Давайте посмотрим на простейший пример решения такой задачи."
      ],
      "metadata": {
        "collapsed": false,
        "pycharm": {
          "name": "#%% md\n"
        },
        "id": "mRtfBj7s7hsP"
      }
    },
    {
      "cell_type": "markdown",
      "source": [
        "Работать будем опять-таки с `MNIST`. Так как модель оказывается крайне тяжеловесной, будем использовать «простой» набор данных. Визуализируем элементы этого набора данных (для наглядности)"
      ],
      "metadata": {
        "collapsed": false,
        "pycharm": {
          "name": "#%% md\n"
        },
        "id": "MY-avo2u7hsP"
      }
    },
    {
      "cell_type": "code",
      "source": [
        "import numpy as np\n",
        "import pandas as pd\n",
        "import warnings\n",
        "import matplotlib.pyplot as plt\n",
        "import seaborn as sns\n",
        "import cv2\n",
        "\n",
        "from google.colab.patches import cv2_imshow\n",
        "from keras.datasets import mnist\n",
        "\n",
        "from sklearn.datasets import load_digits\n",
        "from sklearn.cluster import KMeans, MiniBatchKMeans\n",
        "from sklearn.model_selection import train_test_split\n",
        "from sklearn.metrics import accuracy_score, confusion_matrix\n",
        "from sklearn.manifold import TSNE\n",
        "from sklearn.decomposition import PCA\n",
        "from sklearn.mixture import GaussianMixture\n",
        "\n",
        "\n",
        "%matplotlib inline"
      ],
      "metadata": {
        "id": "_FRlvrld44EL"
      },
      "execution_count": 4,
      "outputs": []
    },
    {
      "cell_type": "code",
      "execution_count": 2,
      "outputs": [
        {
          "output_type": "execute_result",
          "data": {
            "text/plain": [
              "(1797, 64)"
            ]
          },
          "metadata": {},
          "execution_count": 2
        }
      ],
      "source": [
        "from sklearn.datasets import load_digits\n",
        "import matplotlib.pyplot as plt\n",
        "\n",
        "digits = load_digits()\n",
        "digits.data.shape"
      ],
      "metadata": {
        "pycharm": {
          "name": "#%%\n"
        },
        "id": "dCNn7ks97hsP",
        "colab": {
          "base_uri": "https://localhost:8080/"
        },
        "outputId": "ebff5cab-090c-4a18-84e4-ffaf94f9363e"
      }
    },
    {
      "cell_type": "code",
      "execution_count": 3,
      "outputs": [
        {
          "output_type": "display_data",
          "data": {
            "text/plain": [
              "<Figure size 800x800 with 100 Axes>"
            ],
            "image/png": "[encoded data removed]"
          },
          "metadata": {}
        }
      ],
      "source": [
        "fig, ax = plt.subplots(10, 10, figsize=(8, 8), subplot_kw=dict(xticks=[], yticks=[]))\n",
        "fig.subplots_adjust(hspace=0.05, wspace=0.05)\n",
        "for i, axi in enumerate(ax.flat):\n",
        "    im = axi.imshow(digits.data[i].reshape(8,8), cmap='binary')\n",
        "    im.set_clim(0, 16)"
      ],
      "metadata": {
        "pycharm": {
          "name": "#%%\n"
        },
        "id": "ygsNMoYZ7hsQ",
        "colab": {
          "base_uri": "https://localhost:8080/",
          "height": 653
        },
        "outputId": "c4f5da36-6cf3-49e7-c23d-7dccc954aadc"
      }
    },
    {
      "cell_type": "markdown",
      "source": [
        "Для того, чтобы обучение проходило быстрее имеет смысл снизить размерность пространства признаков. Произведите преобразования для всего набора данных помощи <code>PCA(n_components=0.99, svd_solver=='full')</code>.\n"
      ],
      "metadata": {
        "collapsed": false,
        "pycharm": {
          "name": "#%% md\n"
        },
        "id": "wXcooMSH7hsQ"
      }
    },
    {
      "cell_type": "code",
      "execution_count": 5,
      "outputs": [],
      "source": [
        "pca = PCA(n_components=0.99, svd_solver='full')\n",
        "transformed_data = pca.fit_transform(digits.data)\n"
      ],
      "metadata": {
        "pycharm": {
          "name": "#%%\n"
        },
        "id": "p76FXvva7hsQ"
      }
    },
    {
      "cell_type": "markdown",
      "source": [
        "Введите число полученных ГК"
      ],
      "metadata": {
        "id": "Ma5b_5mlpjCM"
      }
    },
    {
      "cell_type": "code",
      "execution_count": 6,
      "outputs": [
        {
          "output_type": "stream",
          "name": "stdout",
          "text": [
            "Number of PC:  41\n"
          ]
        }
      ],
      "source": [
        "print(\"Number of PC: \", pca.components_.shape[0])"
      ],
      "metadata": {
        "pycharm": {
          "name": "#%%\n"
        },
        "id": "AyUeawEt7hsQ",
        "outputId": "7c8fea79-8db7-4480-f54e-1708e8fc86ef",
        "colab": {
          "base_uri": "https://localhost:8080/"
        }
      }
    },
    {
      "cell_type": "markdown",
      "source": [
        "Обучим интересующую нас модель, подобрав гиперпараметр, отвечающий за число используемых компонент, минимизируя <a href=\"https://ru.wikipedia.org/wiki/Информационный_критерий_Акаике\">информационный критерий Акаике</a>.\n",
        "\n",
        "Для значений параметра <code>n_components</code> в диапазоне $[50,250)$ с шагом $10$ обучите модели <a href=\"https://scikit-learn.org/stable/modules/generated/sklearn.mixture.GaussianMixture.html\"><code>GaussianMixture</code></a> с параметрами, указанными в вашем задании. При помоши метода <code>.aic()</code> вычислите значение критерия каждой модели.\n",
        "\n",
        "Введите значение <code>n_components</code> модели с наименьшим значением критерия Акаике.\n",
        "\n",
        "\n"
      ],
      "metadata": {
        "id": "gwArf-clzg2m"
      }
    },
    {
      "cell_type": "code",
      "execution_count": 8,
      "outputs": [
        {
          "output_type": "stream",
          "name": "stdout",
          "text": [
            "Best n_comp:  200\n",
            "Best metric:  -191103.99291240133\n"
          ]
        }
      ],
      "source": [
        "for n_comp in range(50, 250, 10):\n",
        "  gm = GaussianMixture(n_components=n_comp, covariance_type='full', random_state=41).fit(transformed_data)\n",
        "  metric = gm.aic(transformed_data)\n",
        "  if n_comp == 50:\n",
        "    best_metric = metric\n",
        "    best_n = n_comp\n",
        "  else:\n",
        "    if metric < best_metric:\n",
        "      best_metric = metric\n",
        "      best_n = n_comp\n",
        "print(\"Best n_comp: \", best_n)\n",
        "print(\"Best metric: \", best_metric)"
      ],
      "metadata": {
        "pycharm": {
          "name": "#%%\n"
        },
        "id": "kh26_izK7hsQ",
        "outputId": "bd433e92-29f4-4e9b-dd61-3f7b68f18aad",
        "colab": {
          "base_uri": "https://localhost:8080/"
        }
      }
    },
    {
      "cell_type": "markdown",
      "source": [
        "Обучите финальную модель на подобранном гиперпараметре. Проверьте, что обучение сошлось (поле <code>.converged_</code> модели)."
      ],
      "metadata": {
        "collapsed": false,
        "pycharm": {
          "name": "#%% md\n"
        },
        "id": "LIoODHeP7hsR"
      }
    },
    {
      "cell_type": "code",
      "execution_count": 14,
      "outputs": [
        {
          "output_type": "stream",
          "name": "stdout",
          "text": [
            "Converged:  True\n"
          ]
        }
      ],
      "source": [
        "gm = GaussianMixture(n_components=best_n, covariance_type='full', random_state=41).fit(transformed_data)\n",
        "print(\"Converged: \", gm.converged_)"
      ],
      "metadata": {
        "pycharm": {
          "name": "#%%\n"
        },
        "id": "c7oq5tkZ7hsR",
        "outputId": "aebf8581-2bb6-4773-8017-d57df1023a54",
        "colab": {
          "base_uri": "https://localhost:8080/"
        }
      }
    },
    {
      "cell_type": "markdown",
      "source": [
        "При помощи метода <code>.sample()</code> сгенерируйте $100$ новых объектов.\n",
        "\n",
        "Введите выборочное среднее коориднаты с индексом $0$ сгенерированных объектов."
      ],
      "metadata": {
        "collapsed": false,
        "pycharm": {
          "name": "#%% md\n"
        },
        "id": "p1vjovgA7hsR"
      }
    },
    {
      "cell_type": "code",
      "execution_count": 15,
      "outputs": [
        {
          "output_type": "stream",
          "name": "stdout",
          "text": [
            "Mean 0-PC value:  1.3917235910719756\n"
          ]
        }
      ],
      "source": [
        "X_gen, y_gen = gm.sample(100)\n",
        "print(\"Mean 0-PC value: \", np.mean(X_gen[:,0]))"
      ],
      "metadata": {
        "pycharm": {
          "name": "#%%\n"
        },
        "id": "VHMKmOSq7hsS",
        "outputId": "df8a9f7c-7410-4891-8da7-f92d2c3803ce",
        "colab": {
          "base_uri": "https://localhost:8080/"
        }
      }
    },
    {
      "cell_type": "markdown",
      "source": [
        "При помоши метода <code>.inverse_transform()</code> класса <code>PCA</code> верните сгенерированные объекты в пространство исходных признаков."
      ],
      "metadata": {
        "collapsed": false,
        "pycharm": {
          "name": "#%% md\n"
        },
        "id": "l_PI0NTc7hsS"
      }
    },
    {
      "cell_type": "code",
      "execution_count": 16,
      "outputs": [],
      "source": [
        "X_gen_inv_transform = pca.inverse_transform(X_gen)"
      ],
      "metadata": {
        "pycharm": {
          "name": "#%%\n"
        },
        "id": "_KLbxq297hsS"
      }
    },
    {
      "cell_type": "markdown",
      "source": [
        "Визуализируйте полученные результаты. Введите номер изображения, соответствующего сгенерированному объекту с индексом $5$ (индексация начинается с нуля)"
      ],
      "metadata": {
        "id": "cgRK_l2G8I6p"
      }
    },
    {
      "cell_type": "code",
      "source": [
        "plt.imshow(X_gen_inv_transform[17].reshape(8,8),cmap='binary')"
      ],
      "metadata": {
        "id": "xj__POKA8zpH",
        "outputId": "87a90e0c-7d7b-4a5b-9ff0-455e7195aace",
        "colab": {
          "base_uri": "https://localhost:8080/",
          "height": 447
        }
      },
      "execution_count": 18,
      "outputs": [
        {
          "output_type": "execute_result",
          "data": {
            "text/plain": [
              "<matplotlib.image.AxesImage at 0x7fc2d13abbe0>"
            ]
          },
          "metadata": {},
          "execution_count": 18
        },
        {
          "output_type": "display_data",
          "data": {
            "text/plain": [
              "<Figure size 640x480 with 1 Axes>"
            ],
            "image/png": "[encoded data removed]"
          },
          "metadata": {}
        }
      ]
    }
  ]
}